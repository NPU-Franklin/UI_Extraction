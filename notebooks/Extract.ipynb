{
 "nbformat": 4,
 "nbformat_minor": 2,
 "metadata": {
  "language_info": {
   "name": "python",
   "codemirror_mode": {
    "name": "ipython",
    "version": 3
   },
   "version": "3.7.4-final"
  },
  "orig_nbformat": 2,
  "file_extension": ".py",
  "mimetype": "text/x-python",
  "name": "python",
  "npconvert_exporter": "python",
  "pygments_lexer": "ipython3",
  "version": 3,
  "kernelspec": {
   "name": "python37464bitbasecondaf53b5352d8f74eef8c85af318be7088d",
   "display_name": "Python 3.7.4 64-bit ('base': conda)"
  },
  "pycharm": {
   "stem_cell": {
    "cell_type": "raw",
    "source": [],
    "metadata": {
     "collapsed": false
    }
   }
  }
 },
 "cells": [
  {
   "cell_type": "markdown",
   "execution_count": null,
   "metadata": {},
   "outputs": [],
   "source": [
    "# UIExtraction Part1: Extract"
   ]
  },
  {
   "cell_type": "code",
   "execution_count": null,
   "metadata": {},
   "outputs": [],
   "source": [
    "\"\"\"\n",
    "Autoencoder\n",
    "Model compile and train.\n",
    "\n",
    "Licensed under the GPL-3.0 License (see LICENSE for details)\n",
    "Written by NPU-Franklin@Github.com\n",
    "\"\"\""
   ]
  },
  {
   "cell_type": "markdown",
   "execution_count": null,
   "metadata": {},
   "outputs": [],
   "source": [
    "Designed to extract the most valuable features from images using autoencoder(AE)."
   ]
  },
  {
   "cell_type": "markdown",
   "execution_count": null,
   "metadata": {},
   "outputs": [],
   "source": [
    "## 1. Importing"
   ]
  },
  {
   "cell_type": "code",
   "execution_count": null,
   "metadata": {},
   "outputs": [],
   "source": [
    "import os\n",
    "import cv2\n",
    "\n",
    "import tensorflow as tf\n",
    "import numpy as np\n",
    "import matplotlib.pyplot as plt\n",
    "import matplotlib.image as mping\n",
    "\n",
    "from scipy import *\n",
    "from tensorflow import keras\n",
    "from keras.preprocessing.image import load_img, img_to_array\n",
    "from keras.models import Sequential, load_model\n",
    "from keras.layers import Dense, Conv2D, AveragePooling2D, UpSampling2D\n",
    "from keras.callbacks import TensorBoard\n",
    "from tensorflow.python.keras.utils import plot_model"
   ]
  },
  {
   "cell_type": "code",
   "execution_count": null,
   "metadata": {},
   "outputs": [],
   "source": [
    "print(\"keras_version: \"+keras.__version__)\n",
    "print(\"Tensorflow_version: \"+tf.__version__)"
   ]
  },
  {
   "cell_type": "markdown",
   "execution_count": null,
   "metadata": {},
   "outputs": [],
   "source": [
    "## 2. Configuration"
   ]
  },
  {
   "cell_type": "markdown",
   "execution_count": null,
   "metadata": {},
   "outputs": [],
   "source": [
    "### Set font size, figure size and the gpu device CUDA using."
   ]
  },
  {
   "cell_type": "code",
   "execution_count": null,
   "metadata": {},
   "outputs": [],
   "source": [
    "plt.rcParams['font.size'] = 18\n",
    "plt.rcParams['figure.figsize'] = (18, 24)\n",
    "\n",
    "os.environ['CUDA_VISIBLE_DEVICES'] = '/gpu:0'"
   ]
  },
  {
   "cell_type": "markdown",
   "execution_count": null,
   "metadata": {},
   "outputs": [],
   "source": [
    "## 3. Load and preprocess images"
   ]
  },
  {
   "cell_type": "markdown",
   "execution_count": null,
   "metadata": {},
   "outputs": [],
   "source": [
    "### Define basic information of images."
   ]
  },
  {
   "cell_type": "code",
   "execution_count": null,
   "metadata": {},
   "outputs": [],
   "source": [
    "img_width, img_height, channels = 1536, 2048, 3\n",
    "input_shape = (img_height, img_width, channels)"
   ]
  },
  {
   "cell_type": "markdown",
   "execution_count": null,
   "metadata": {},
   "outputs": [],
   "source": [
    "## Define image resize funtion."
   ]
  },
  {
   "cell_type": "code",
   "execution_count": null,
   "metadata": {},
   "outputs": [],
   "source": [
    "def resize_data(dir):\n",
    "    files = [\"%s/%s\" % (dir, num) for num in os.listdir(dir)]\n",
    "    for file in files:\n",
    "        img_old = cv2.imread(file, cv2.IMREAD_UNCHANGED)\n",
    "        img_new = cv2.resize(img_old, (1536, 2048), interpolation=cv2.INTER_CUBIC)\n",
    "        save_path = dir+'_resize/'\n",
    "        img_name = os.path.basename(file)\n",
    "        if os.path.exists(save_path):\n",
    "            print(file)\n",
    "            try:\n",
    "                save_img = save_path + img_name\n",
    "                cv2.imwrite(save_img, img_new, [int(cv2.IMWRITE_PNG_COMPRESSION),1])\n",
    "                print('succeed!')\n",
    "            except:\n",
    "                print('False!')\n",
    "        else:\n",
    "            os.mkdir(save_path)\n",
    "            print(file)\n",
    "            try:\n",
    "                save_img = save_path + img_name\n",
    "                cv2.imwrite(save_img, img_new, [int(cv2.IMWRITE_PNG_COMPRESSION),1])\n",
    "                print('succeed!')\n",
    "            except:\n",
    "                print('False!')"
   ]
  },
  {
   "cell_type": "markdown",
   "execution_count": null,
   "metadata": {},
   "outputs": [],
   "source": [
    "### Define load_data function."
   ]
  },
  {
   "cell_type": "code",
   "execution_count": null,
   "metadata": {},
   "outputs": [],
   "source": [
    "def load_data(dir):\n",
    "    if not os.path.exists(dir):\n",
    "        dir = \".\" + dir\n",
    "    resize_data(dir)\n",
    "    dir = dir + '_resize'\n",
    "    files = [\"%s/%s\" % (dir, num) for num in os.listdir(dir)]\n",
    "    arr = np.empty((len(files), img_height, img_width, channels), dtype=np.float64)\n",
    "    for i, imgfile in enumerate(files):\n",
    "        img = load_img(imgfile)\n",
    "        x = img_to_array(img).reshape(img_height, img_width, channels)\n",
    "        x = x.astype('float64')/255\n",
    "        arr[i] = x\n",
    "    return arr"
   ]
  },
  {
   "cell_type": "markdown",
   "execution_count": null,
   "metadata": {},
   "outputs": [],
   "source": [
    "### Load data."
   ]
  },
  {
   "cell_type": "code",
   "execution_count": null,
   "metadata": {},
   "outputs": [],
   "source": [
    "train_data = load_data(r'./datasets/304x304')\n",
    "print(train_data.shape)"
   ]
  },
  {
   "cell_type": "markdown",
   "execution_count": null,
   "metadata": {},
   "outputs": [],
   "source": [
    "### Plot an image of the dataset."
   ]
  },
  {
   "cell_type": "code",
   "execution_count": null,
   "metadata": {},
   "outputs": [],
   "source": [
    "plt.imshow(train_data[0])\n",
    "plt.axis('off')\n",
    "plt.show()"
   ]
  },
  {
   "cell_type": "markdown",
   "execution_count": null,
   "metadata": {},
   "outputs": [],
   "source": [
    "### Save the data as numpy format for future using."
   ]
  },
  {
   "cell_type": "code",
   "execution_count": null,
   "metadata": {},
   "outputs": [],
   "source": [
    "if os.path.exists(r\"./data_numpyarray\"):\n",
    "    np.save('./data_numpyarray/dataset_304xx304_reshaped.npy', train_data)\n",
    "else:\n",
    "    np.save('../data_numpyarray/dataset_304xx304_reshaped.npy', train_data)"
   ]
  },
  {
   "cell_type": "markdown",
   "execution_count": null,
   "metadata": {},
   "outputs": [],
   "source": [
    "## 4. Build and compile the model"
   ]
  },
  {
   "cell_type": "code",
   "execution_count": null,
   "metadata": {},
   "outputs": [],
   "source": [
    "model = Sequential()"
   ]
  },
  {
   "cell_type": "markdown",
   "execution_count": null,
   "metadata": {},
   "outputs": [],
   "source": [
    "### Encoder part"
   ]
  },
  {
   "cell_type": "code",
   "execution_count": null,
   "metadata": {},
   "outputs": [],
   "source": [
    "model.add(Conv2D(32, kernel_size=(3, 3), activation='relu', input_shape=input_shape, padding='same'))\n",
    "model.add(AveragePooling2D(pool_size=(2, 2), padding='same'))\n",
    "model.add(Conv2D(16, kernel_size=(3, 3), activation='relu', padding='same'))\n",
    "model.add(AveragePooling2D(pool_size=(2, 2), padding='same'))\n",
    "model.add(Conv2D(8, kernel_size=(3, 3), activation='relu', padding='same'))\n",
    "model.add(AveragePooling2D(pool_size=(2, 2), padding='same'))\n",
    "model.add(Conv2D(4, kernel_size=(3, 3), activation='relu', padding='same'))\n",
    "model.add(AveragePooling2D(pool_size=(2, 2), padding='same'))"
   ]
  },
  {
   "cell_type": "markdown",
   "execution_count": null,
   "metadata": {},
   "outputs": [],
   "source": [
    "### Decoder part"
   ]
  },
  {
   "cell_type": "code",
   "execution_count": null,
   "metadata": {},
   "outputs": [],
   "source": [
    "model.add(UpSampling2D((2, 2)))\n",
    "model.add(Conv2D(4, kernel_size=(3, 3), activation='relu', padding='same'))\n",
    "model.add(UpSampling2D((2, 2)))\n",
    "model.add(Conv2D(8, kernel_size=(3, 3), activation='relu', padding='same'))\n",
    "model.add(UpSampling2D((2, 2)))\n",
    "model.add(Conv2D(16, kernel_size=(3, 3), activation='relu', padding='same'))\n",
    "model.add(UpSampling2D((2, 2)))\n",
    "model.add(Conv2D(32, kernel_size=(3, 3), activation='relu', padding='same'))\n",
    "model.add(Conv2D(3, kernel_size=(3, 3), activation='sigmoid', padding='same'))"
   ]
  },
  {
   "cell_type": "markdown",
   "execution_count": null,
   "metadata": {},
   "outputs": [],
   "source": [
    "### Compile"
   ]
  },
  {
   "cell_type": "code",
   "execution_count": null,
   "metadata": {},
   "outputs": [],
   "source": [
    "model.compile(loss='binary_crossentropy', optimizer='adam', metrics=['accuracy'])"
   ]
  },
  {
   "cell_type": "markdown",
   "execution_count": null,
   "metadata": {},
   "outputs": [],
   "source": [
    "### Summary"
   ]
  },
  {
   "cell_type": "code",
   "execution_count": null,
   "metadata": {},
   "outputs": [],
   "source": [
    "model.summary()"
   ]
  },
  {
   "cell_type": "markdown",
   "execution_count": null,
   "metadata": {},
   "outputs": [],
   "source": [
    "## 5. Training"
   ]
  },
  {
   "cell_type": "code",
   "execution_count": null,
   "metadata": {},
   "outputs": [],
   "source": [
    "model.fit(train_data, train_data, epochs=100, shuffle=True)"
   ]
  },
  {
   "cell_type": "markdown",
   "execution_count": null,
   "metadata": {},
   "outputs": [],
   "source": [
    "## 6. Save the model"
   ]
  },
  {
   "cell_type": "code",
   "execution_count": null,
   "metadata": {},
   "outputs": [],
   "source": [
    "if os.path.exists(r\"./results\"):\n",
    "    model.save('./results/model/CAE_304x304_reshaped.h5')\n",
    "else:\n",
    "    model.save('../results/model/CAE_304x304_reshaped.h5')"
   ]
  },
  {
   "cell_type": "markdown",
   "execution_count": null,
   "metadata": {},
   "outputs": [],
   "source": [
    "## 7. Checkout the result."
   ]
  },
  {
   "cell_type": "code",
   "execution_count": null,
   "metadata": {},
   "outputs": [],
   "source": [
    "img_decoded = model.predict(train_data[:1])\n",
    "plt.figure()\n",
    "plt.subplot(1, 2, 1)\n",
    "plt.axis('off')\n",
    "plt.title(\"Before encoding\")\n",
    "plt.imshow(train_data[:1].reshape(img_height, img_width, channels))\n",
    "plt.subplot(1, 2, 2)\n",
    "plt.axis('off')\n",
    "plt.title(\"After encoding\")\n",
    "plt.imshow(img_decoded.reshape(img_height, img_width, channels))"
   ]
  }
 ]
}